{
 "cells": [
  {
   "cell_type": "code",
   "id": "859f0d1482518f58",
   "metadata": {
    "ExecuteTime": {
     "end_time": "2025-02-04T17:42:23.816692Z",
     "start_time": "2025-02-04T17:42:23.180764Z"
    }
   },
   "source": [
    "import pandas as pd"
   ],
   "outputs": [],
   "execution_count": 1
  },
  {
   "metadata": {
    "ExecuteTime": {
     "end_time": "2025-02-03T18:38:12.754371Z",
     "start_time": "2025-02-03T18:38:12.750622Z"
    }
   },
   "cell_type": "code",
   "source": [
    "def data_formater(file_url, sum=True, output_name=''):\n",
    "    raw_df = pd.read_csv(file_url)\n",
    "    raw_df['date'] = pd.to_datetime(raw_df['FechaObservacion']).dt.strftime('%d/%m/%Y')\n",
    "    new_df = raw_df[['date', 'ValorObservado', 'Municipio']]\n",
    "\n",
    "    if sum:\n",
    "        grouped_df = new_df.groupby(['date', 'Municipio'], as_index=False).agg(\n",
    "            total_value=('ValorObservado', 'sum'),\n",
    "            avg_value=('ValorObservado', 'mean')\n",
    "        )\n",
    "    else:\n",
    "        grouped_df = new_df.groupby(['date', 'Municipio'], as_index=False).agg(\n",
    "            avg_value=('ValorObservado', 'mean')\n",
    "        )\n",
    "\n",
    "    grouped_df.rename(columns={'Municipio': 'municipality'})\n",
    "    output_file = f\"../data/formatted/{output_name}formatted_data.csv\"\n",
    "    grouped_df.to_csv(output_file, index=False)\n",
    "    print(f\"Data exported to {output_file}\")\n",
    "\n",
    "    return grouped_df\n"
   ],
   "id": "5b92ac60b8cb99d7",
   "outputs": [],
   "execution_count": 8
  },
  {
   "metadata": {
    "ExecuteTime": {
     "end_time": "2025-02-03T18:40:07.607544Z",
     "start_time": "2025-02-03T18:38:13.654715Z"
    }
   },
   "cell_type": "code",
   "source": "formatted_rainfall = data_formater('../data/filtered/rainfall_filtered.csv', output_name='rainfall')",
   "id": "68dcb1df816a22c0",
   "outputs": [
    {
     "name": "stdout",
     "output_type": "stream",
     "text": [
      "Data exported to ../data/formatted/rainfallformatted_data.csv\n"
     ]
    }
   ],
   "execution_count": 9
  },
  {
   "metadata": {
    "ExecuteTime": {
     "end_time": "2025-02-03T18:48:11.730156Z",
     "start_time": "2025-02-03T18:48:00.171526Z"
    }
   },
   "cell_type": "code",
   "source": "formatted_pressure = data_formater('../data/filtered/pressure_filtered.csv', sum=False, output_name='pressure')",
   "id": "eaef49abdb039cb2",
   "outputs": [
    {
     "name": "stdout",
     "output_type": "stream",
     "text": [
      "Data exported to ../data/formatted/pressureformatted_data.csv\n"
     ]
    }
   ],
   "execution_count": 10
  },
  {
   "metadata": {
    "ExecuteTime": {
     "end_time": "2025-02-03T18:57:17.493716Z",
     "start_time": "2025-02-03T18:48:11.804930Z"
    }
   },
   "cell_type": "code",
   "source": "formatted_air_humidity = data_formater('../data/filtered/air_humidity_filtered.csv', sum=False, output_name='air_humidity')",
   "id": "1972670cc6ff210b",
   "outputs": [
    {
     "name": "stderr",
     "output_type": "stream",
     "text": [
      "/tmp/ipykernel_14795/4137471760.py:3: UserWarning: Could not infer format, so each element will be parsed individually, falling back to `dateutil`. To ensure parsing is consistent and as-expected, please specify a format.\n",
      "  raw_df['date'] = pd.to_datetime(raw_df['FechaObservacion']).dt.strftime('%d/%m/%Y')\n"
     ]
    },
    {
     "name": "stdout",
     "output_type": "stream",
     "text": [
      "Data exported to ../data/formatted/air_humidityformatted_data.csv\n"
     ]
    }
   ],
   "execution_count": 11
  },
  {
   "metadata": {},
   "cell_type": "code",
   "outputs": [],
   "execution_count": null,
   "source": "",
   "id": "c7a4513e23fc860a"
  }
 ],
 "metadata": {
  "kernelspec": {
   "display_name": "Python 3 (ipykernel)",
   "language": "python",
   "name": "python3"
  },
  "language_info": {
   "codemirror_mode": {
    "name": "ipython",
    "version": 3
   },
   "file_extension": ".py",
   "mimetype": "text/x-python",
   "name": "python",
   "nbconvert_exporter": "python",
   "pygments_lexer": "ipython3",
   "version": "3.12.7"
  }
 },
 "nbformat": 4,
 "nbformat_minor": 5
}
