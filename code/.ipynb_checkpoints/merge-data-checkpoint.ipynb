{
 "cells": [
  {
   "metadata": {
    "ExecuteTime": {
     "end_time": "2025-01-23T13:31:09.957731Z",
     "start_time": "2025-01-23T13:31:09.629889Z"
    }
   },
   "cell_type": "code",
   "source": "import pandas as pd",
   "id": "859f0d1482518f58",
   "outputs": [],
   "execution_count": 2
  },
  {
   "metadata": {},
   "cell_type": "code",
   "outputs": [],
   "execution_count": null,
   "source": [
    "def data_formater(csv_dir):\n",
    "    df = pd.read_csv(csv_dir)\n",
    "    df[\"Date\"] = pd.to_datetime(df[\"FechaObservacion\"]).dt.strftime(\"%d/%m/%Y\")\n",
    "    df.drop(columns=[\"FechaObservacion\"], inplace=True)\n",
    "\n",
    "\n"
   ],
   "id": "3562575128bf6922"
  },
  {
   "metadata": {},
   "cell_type": "code",
   "source": [
    "humidity_df = pd.read_csv('../data/filtered/air_humidity_filtered.csv')\n",
    "pressure_df = pd.read_csv('../data/filtered/pressure_filtered.csv')\n",
    "rainfall_df = pd.read_csv('../data/filtered/rainfall_filtered.csv')"
   ],
   "id": "7bbc7a90403809a3",
   "outputs": [],
   "execution_count": null
  },
  {
   "metadata": {},
   "cell_type": "code",
   "outputs": [],
   "execution_count": null,
   "source": "",
   "id": "f1fdfc47c3ca42cd"
  }
 ],
 "metadata": {
  "kernelspec": {
   "display_name": "Python 3",
   "language": "python",
   "name": "python3"
  },
  "language_info": {
   "codemirror_mode": {
    "name": "ipython",
    "version": 2
   },
   "file_extension": ".py",
   "mimetype": "text/x-python",
   "name": "python",
   "nbconvert_exporter": "python",
   "pygments_lexer": "ipython2",
   "version": "2.7.6"
  }
 },
 "nbformat": 4,
 "nbformat_minor": 5
}
