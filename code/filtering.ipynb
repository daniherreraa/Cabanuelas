{
 "cells": [
  {
   "cell_type": "code",
   "metadata": {
    "ExecuteTime": {
     "end_time": "2025-02-14T02:47:30.053298Z",
     "start_time": "2025-02-14T02:47:29.536350Z"
    }
   },
   "source": "import pandas as pd",
   "outputs": [],
   "execution_count": 1
  },
  {
   "cell_type": "code",
   "metadata": {
    "ExecuteTime": {
     "end_time": "2025-02-14T02:47:30.073120Z",
     "start_time": "2025-02-14T02:47:30.069151Z"
    }
   },
   "source": "municipalities_of_interest = ['BOLÍVAR', 'ANTIOQUIA', 'CUNDINAMARCA', 'AMAZONAS', 'GUAINÍA', 'NARIÑO', 'TOLIMA', 'CAUCA', 'NORTE DE SANTANDER']",
   "outputs": [],
   "execution_count": 2
  },
  {
   "cell_type": "code",
   "metadata": {
    "ExecuteTime": {
     "end_time": "2025-02-14T02:47:30.246485Z",
     "start_time": "2025-02-14T02:47:30.242158Z"
    }
   },
   "source": [
    "def filter_municipalities(csv_file, municipalities, output_file, chunksize=1000):\n",
    "    \"\"\"\n",
    "    Filters specific municipalities from a large CSV file and writes the result to another CSV file.\n",
    "\n",
    "    Args:\n",
    "        csv_file (str): Path to the CSV file to process.\n",
    "        municipalities (list): List of municipalities to filter.\n",
    "        output_file (str): Path to the output CSV file.\n",
    "        chunksize (int, optional): Number of rows to read per chunk. Default is 1000.\n",
    "    \"\"\"\n",
    "    first_chunk = True\n",
    "    for chunk in pd.read_csv(csv_file, chunksize=chunksize, dtype={'Departamento': 'category'}):\n",
    "        chunk_filtered = chunk[chunk['Departamento'].isin(municipalities)]\n",
    "        if first_chunk:\n",
    "            chunk_filtered.to_csv(output_file, index=False, mode='w')\n",
    "            first_chunk = False\n",
    "        else:\n",
    "            chunk_filtered.to_csv(output_file, index=False, mode='a', header=False)"
   ],
   "outputs": [],
   "execution_count": 3
  },
  {
   "cell_type": "code",
   "metadata": {
    "ExecuteTime": {
     "end_time": "2025-02-14T03:21:26.166868Z",
     "start_time": "2025-02-14T02:47:30.300235Z"
    }
   },
   "source": [
    "\n",
    "raw_rainfall_filtered = filter_municipalities('../data/raw/Precipitaci_n_20250120.csv', municipalities_of_interest, '../data/filtered/rainfall_filtered.csv')"
   ],
   "outputs": [],
   "execution_count": 4
  },
  {
   "cell_type": "code",
   "metadata": {
    "ExecuteTime": {
     "end_time": "2025-02-14T03:33:34.368829Z",
     "start_time": "2025-02-14T03:21:26.343722Z"
    }
   },
   "source": "raw_air_humidity_filtered = filter_municipalities('../data/raw/Humedad_del_Aire_2_metros_20250120.csv', municipalities_of_interest, '../data/filtered/air_humidity_filtered.csv')",
   "outputs": [],
   "execution_count": 5
  },
  {
   "cell_type": "code",
   "metadata": {
    "ExecuteTime": {
     "end_time": "2025-02-14T03:37:54.769950Z",
     "start_time": "2025-02-14T03:33:34.412869Z"
    }
   },
   "source": "raw_presure_filtered = filter_municipalities('../data/raw/Presi_n_Atmosf_rica_20250120.csv', municipalities_of_interest, '../data/filtered/presure_filtered.csv')",
   "outputs": [],
   "execution_count": 6
  },
  {
   "cell_type": "code",
   "metadata": {
    "ExecuteTime": {
     "end_time": "2025-02-14T03:37:54.806710Z",
     "start_time": "2025-02-14T03:37:54.804119Z"
    }
   },
   "source": [],
   "outputs": [],
   "execution_count": null
  }
 ],
 "metadata": {
  "kernelspec": {
   "display_name": "Python 3 (ipykernel)",
   "language": "python",
   "name": "python3"
  },
  "language_info": {
   "codemirror_mode": {
    "name": "ipython",
    "version": 3
   },
   "file_extension": ".py",
   "mimetype": "text/x-python",
   "name": "python",
   "nbconvert_exporter": "python",
   "pygments_lexer": "ipython3",
   "version": "3.12.7"
  }
 },
 "nbformat": 4,
 "nbformat_minor": 4
}
