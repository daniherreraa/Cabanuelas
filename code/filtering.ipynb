{
 "cells": [
  {
   "cell_type": "code",
   "execution_count": 2,
   "metadata": {},
   "outputs": [],
   "source": [
    "import pandas as pd"
   ]
  },
  {
   "cell_type": "code",
   "execution_count": 3,
   "metadata": {},
   "outputs": [],
   "source": "municipalities_of_interest = ['CARTAGENA DE INDIAS', 'BOGOTA, D.C', 'MEDELLÍN', 'CALI', 'CÚCUTA']"
  },
  {
   "cell_type": "code",
   "execution_count": 4,
   "metadata": {},
   "outputs": [],
   "source": [
    "def filter_municipalities(csv_file, municipalities, chunksize=1000):\n",
    "    \"\"\"\n",
    "    Filters specific municipalities from a large CSV file.\n",
    "\n",
    "    Args:\n",
    "        csv_file (str): Path to the CSV file to process.\n",
    "        municipalities (list): List of municipalities to filter.\n",
    "        chunksize (int, optional): Number of rows to read per chunk. Default is 1000.\n",
    "\n",
    "    Returns:\n",
    "        pd.DataFrame: DataFrame containing the filtered records.\n",
    "    \"\"\"\n",
    "    filtered_chunks = []  # List to store filtered chunks\n",
    "\n",
    "    # Read the file in chunks\n",
    "    for chunk in pd.read_csv(csv_file, chunksize=chunksize):\n",
    "        # Filter municipalities of interest\n",
    "        chunk_filtered = chunk[chunk['Municipio'].isin(municipalities)]\n",
    "        # Add the filtered chunk to the list\n",
    "        filtered_chunks.append(chunk_filtered)\n",
    "\n",
    "    # Combine all filtered chunks into a single DataFrame\n",
    "    return pd.concat(filtered_chunks, ignore_index=True)"
   ]
  },
  {
   "cell_type": "code",
   "execution_count": null,
   "metadata": {},
   "outputs": [],
   "source": [
    "\n",
    "raw_rainfall_filtered = filter_municipalities('../data/raw/Precipitaci_n_20250120.csv', municipalities_of_interest)\n",
    "raw_rainfall_filtered.to_csv('../data/filtered/rainfall_filtered.csv', index=False)"
   ]
  },
  {
   "cell_type": "code",
   "execution_count": 5,
   "metadata": {},
   "outputs": [],
   "source": [
    "raw_air_humidity_filtered = filter_municipalities('../data/raw/Humedad_del_Aire_2_metros_20250120.csv', municipalities_of_interest)\n",
    "raw_air_humidity_filtered.to_csv('../data/filtered/air_humidity_filtered.csv', index=False)"
   ]
  },
  {
   "cell_type": "code",
   "execution_count": 6,
   "metadata": {},
   "outputs": [],
   "source": [
    "raw_presure_filtered = filter_municipalities('../data/raw/Presi_n_Atmosf_rica_20250120.csv', municipalities_of_interest)\n",
    "raw_presure_filtered.to_csv('./filtered_data/pressure_filtered.csv', index=False)"
   ]
  },
  {
   "cell_type": "code",
   "execution_count": null,
   "metadata": {},
   "outputs": [],
   "source": []
  }
 ],
 "metadata": {
  "kernelspec": {
   "display_name": "Python 3 (ipykernel)",
   "language": "python",
   "name": "python3"
  },
  "language_info": {
   "codemirror_mode": {
    "name": "ipython",
    "version": 3
   },
   "file_extension": ".py",
   "mimetype": "text/x-python",
   "name": "python",
   "nbconvert_exporter": "python",
   "pygments_lexer": "ipython3",
   "version": "3.12.7"
  }
 },
 "nbformat": 4,
 "nbformat_minor": 4
}
