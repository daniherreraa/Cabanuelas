{
 "cells": [
  {
   "cell_type": "code",
   "id": "initial_id",
   "metadata": {
    "collapsed": true,
    "ExecuteTime": {
     "end_time": "2025-02-12T18:55:05.614544Z",
     "start_time": "2025-02-12T18:55:05.612036Z"
    }
   },
   "source": [
    "import pandas as pd\n",
    "import matplotlib.pyplot as plt\n",
    "import numpy as np"
   ],
   "outputs": [],
   "execution_count": 35
  },
  {
   "metadata": {
    "ExecuteTime": {
     "end_time": "2025-02-12T18:55:05.648579Z",
     "start_time": "2025-02-12T18:55:05.626101Z"
    }
   },
   "cell_type": "code",
   "source": [
    "air_humidity = pd.read_csv('../data/formatted/air_humidityformatted_data.csv')\n",
    "pressure = pd.read_csv('../data/formatted/pressureformatted_data.csv')\n",
    "rainfall = pd.read_csv('../data/formatted/rainfallformatted_data.csv')"
   ],
   "id": "86e149c1d72d6095",
   "outputs": [],
   "execution_count": 36
  },
  {
   "metadata": {
    "ExecuteTime": {
     "end_time": "2025-02-12T18:55:05.676895Z",
     "start_time": "2025-02-12T18:55:05.672726Z"
    }
   },
   "cell_type": "code",
   "source": "print(air_humidity.head())",
   "id": "29f2ce4cb4b1d62e",
   "outputs": [
    {
     "name": "stdout",
     "output_type": "stream",
     "text": [
      "         date    Municipio  avg_value\n",
      "0  01/01/2007         CALI  46.957746\n",
      "1  01/01/2008  BOGOTA, D.C  60.541667\n",
      "2  01/01/2008         CALI  77.805556\n",
      "3  01/01/2009  BOGOTA, D.C  79.895833\n",
      "4  01/01/2009         CALI  78.305556\n"
     ]
    }
   ],
   "execution_count": 37
  },
  {
   "metadata": {
    "ExecuteTime": {
     "end_time": "2025-02-12T18:55:05.728438Z",
     "start_time": "2025-02-12T18:55:05.723803Z"
    }
   },
   "cell_type": "code",
   "source": "print(pressure.head())",
   "id": "4e559517eca19312",
   "outputs": [
    {
     "name": "stdout",
     "output_type": "stream",
     "text": [
      "         date    Municipio   avg_value\n",
      "0  01/01/2005  BOGOTA, D.C  774.142857\n",
      "1  01/01/2006  BOGOTA, D.C  740.750000\n",
      "2  01/01/2007  BOGOTA, D.C  742.375000\n",
      "3  01/01/2007         CALI  995.046479\n",
      "4  01/01/2008  BOGOTA, D.C  741.181818\n"
     ]
    }
   ],
   "execution_count": 38
  },
  {
   "metadata": {
    "ExecuteTime": {
     "end_time": "2025-02-12T18:55:05.778954Z",
     "start_time": "2025-02-12T18:55:05.774837Z"
    }
   },
   "cell_type": "code",
   "source": "print(rainfall.head())",
   "id": "47386c50e8c3222",
   "outputs": [
    {
     "name": "stdout",
     "output_type": "stream",
     "text": [
      "         date    Municipio  total_value  avg_value\n",
      "0  01/01/2005  BOGOTA, D.C          0.0    0.00000\n",
      "1  01/01/2006  BOGOTA, D.C          0.1    0.00080\n",
      "2  01/01/2007  BOGOTA, D.C          0.0    0.00000\n",
      "3  01/01/2008  BOGOTA, D.C          0.5    0.00037\n",
      "4  01/01/2009  BOGOTA, D.C          1.1    0.00068\n"
     ]
    }
   ],
   "execution_count": 39
  },
  {
   "metadata": {
    "ExecuteTime": {
     "end_time": "2025-02-12T18:55:05.897432Z",
     "start_time": "2025-02-12T18:55:05.825123Z"
    }
   },
   "cell_type": "code",
   "source": [
    "# Convertir la columna 'date' a formato datetime en cada DataFrame\n",
    "air_humidity['date'] = pd.to_datetime(air_humidity['date'], format='%d/%m/%Y')\n",
    "pressure['date'] = pd.to_datetime(pressure['date'], format='%d/%m/%Y')\n",
    "rainfall['date'] = pd.to_datetime(rainfall['date'], format='%d/%m/%Y')\n",
    "\n",
    "# Extraer año, mes y día en cada DataFrame\n",
    "air_humidity['year'] = air_humidity['date'].dt.year\n",
    "air_humidity['month'] = air_humidity['date'].dt.month\n",
    "air_humidity['day'] = air_humidity['date'].dt.day\n",
    "\n",
    "pressure['year'] = pressure['date'].dt.year\n",
    "pressure['month'] = pressure['date'].dt.month\n",
    "pressure['day'] = pressure['date'].dt.day\n",
    "\n",
    "rainfall['year'] = rainfall['date'].dt.year\n",
    "rainfall['month'] = rainfall['date'].dt.month\n",
    "rainfall['day'] = rainfall['date'].dt.day\n",
    "\n",
    "# Unir los DataFrames en uno solo\n",
    "df = air_humidity.merge(pressure, on=['year', 'month', 'day', 'Municipio'], suffixes=('_air_humidity', '_pressure'))\n",
    "df = df.merge(rainfall, on=['year', 'month', 'day', 'Municipio'], suffixes=('', '_rainfall'))\n",
    "\n",
    "# Renombrar columnas\n",
    "df.rename(columns={'avg_value': 'avg_value_rainfall', 'total_value': 'total_value_rainfall'}, inplace=True)\n",
    "\n",
    "# Consolidar datos para evitar duplicados antes de pivotar\n",
    "df_grouped = df.groupby(['year', 'Municipio', 'day'], as_index=False).mean()\n",
    "\n",
    "# Crear las columnas de los primeros 12 días del año\n",
    "final_df = df_grouped.pivot(index=['year', 'Municipio'], columns='day', values=['avg_value_air_humidity', 'avg_value_pressure', 'avg_value_rainfall', 'total_value_rainfall'])\n",
    "\n",
    "# Filtrar solo los primeros 12 días\n",
    "final_df = final_df.loc[:, (slice(None), range(1, 13))]\n",
    "\n",
    "# Renombrar columnas para incluir 'day_X'\n",
    "final_df.columns = [f\"day_{col[1]}_{col[0]}\" for col in final_df.columns]\n",
    "\n",
    "# Calcular los promedios mensuales\n",
    "monthly_avg = df.groupby(['year', 'month', 'Municipio'])[['avg_value_air_humidity', 'avg_value_pressure', 'avg_value_rainfall', 'total_value_rainfall']].mean()\n",
    "\n",
    "# Pivotear para obtener columnas de meses\n",
    "monthly_avg = monthly_avg.pivot_table(index=['year', 'Municipio'], columns='month')\n",
    "\n",
    "# Renombrar columnas para incluir 'month_X'\n",
    "monthly_avg.columns = [f\"month_{col[1]}_{col[0]}\" for col in monthly_avg.columns]\n",
    "\n",
    "# Unir ambos DataFrames\n",
    "final_df = final_df.reset_index().merge(monthly_avg.reset_index(), on=['year', 'Municipio'])\n"
   ],
   "id": "e902114cbb5a6d7f",
   "outputs": [],
   "execution_count": 40
  },
  {
   "metadata": {
    "ExecuteTime": {
     "end_time": "2025-02-12T19:01:37.823529Z",
     "start_time": "2025-02-12T19:01:37.818689Z"
    }
   },
   "cell_type": "code",
   "source": "print(final_df[['Municipio']].value_counts())",
   "id": "463e0d9fa472e26a",
   "outputs": [
    {
     "name": "stdout",
     "output_type": "stream",
     "text": [
      "Municipio          \n",
      "BOGOTA, D.C            13\n",
      "CARTAGENA DE INDIAS     9\n",
      "CALI                    6\n",
      "Name: count, dtype: int64\n"
     ]
    }
   ],
   "execution_count": 44
  },
  {
   "metadata": {
    "ExecuteTime": {
     "end_time": "2025-02-12T18:55:06.046405Z",
     "start_time": "2025-02-12T18:55:05.953280Z"
    }
   },
   "cell_type": "code",
   "source": [
    "plt.scatter(final_df[final_df['Municipio'] == 'BOGOTA, D.C']['day_2_total_value_rainfall'], final_df[final_df['Municipio'] == 'BOGOTA, D.C']['month_2_total_value_rainfall'])\n",
    "print(np.corrcoef(final_df.dropna()[final_df['Municipio'] == 'BOGOTA, D.C']['day_2_total_value_rainfall'], final_df.dropna()[final_df['Municipio'] == 'BOGOTA, D.C']['month_2_total_value_rainfall']))\n"
   ],
   "id": "d5df1cdb8e01f138",
   "outputs": [
    {
     "name": "stdout",
     "output_type": "stream",
     "text": [
      "[[1.         0.21332429]\n",
      " [0.21332429 1.        ]]\n"
     ]
    },
    {
     "name": "stderr",
     "output_type": "stream",
     "text": [
      "/tmp/ipykernel_16821/3802734098.py:2: UserWarning: Boolean Series key will be reindexed to match DataFrame index.\n",
      "  print(np.corrcoef(final_df.dropna()[final_df['Municipio'] == 'BOGOTA, D.C']['day_2_total_value_rainfall'], final_df.dropna()[final_df['Municipio'] == 'BOGOTA, D.C']['month_2_total_value_rainfall']))\n",
      "/tmp/ipykernel_16821/3802734098.py:2: UserWarning: Boolean Series key will be reindexed to match DataFrame index.\n",
      "  print(np.corrcoef(final_df.dropna()[final_df['Municipio'] == 'BOGOTA, D.C']['day_2_total_value_rainfall'], final_df.dropna()[final_df['Municipio'] == 'BOGOTA, D.C']['month_2_total_value_rainfall']))\n"
     ]
    },
    {
     "data": {
      "text/plain": [
       "<Figure size 640x480 with 1 Axes>"
      ],
      "image/png": "[encoded data removed]"
     },
     "metadata": {},
     "output_type": "display_data"
    }
   ],
   "execution_count": 42
  },
  {
   "metadata": {
    "ExecuteTime": {
     "end_time": "2025-02-12T18:55:06.059777Z",
     "start_time": "2025-02-12T18:55:06.058042Z"
    }
   },
   "cell_type": "code",
   "source": "",
   "id": "ea54f725bf91b64",
   "outputs": [],
   "execution_count": null
  }
 ],
 "metadata": {
  "kernelspec": {
   "display_name": "Python 3",
   "language": "python",
   "name": "python3"
  },
  "language_info": {
   "codemirror_mode": {
    "name": "ipython",
    "version": 2
   },
   "file_extension": ".py",
   "mimetype": "text/x-python",
   "name": "python",
   "nbconvert_exporter": "python",
   "pygments_lexer": "ipython2",
   "version": "2.7.6"
  }
 },
 "nbformat": 4,
 "nbformat_minor": 5
}
