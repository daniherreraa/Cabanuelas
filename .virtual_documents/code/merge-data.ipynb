import pandas as pd


def data_formater(csv_dir):
    df = pd.read_csv(csv_dir)
    df["Date"] = pd.to_datetime(df["FechaObservacion"]).dt.strftime("%d/%m/%Y")
    df.drop(columns=["FechaObservacion"], inplace=True)





humidity_df = pd.read_csv('../data/filtered/air_humidity_filtered.csv')
pressure_df = pd.read_csv('../data/filtered/pressure_filtered.csv')
rainfall_df = pd.read_csv('../data/filtered/rainfall_filtered.csv')



